{
  "nbformat": 4,
  "nbformat_minor": 0,
  "metadata": {
    "colab": {
      "provenance": []
    },
    "kernelspec": {
      "name": "python3",
      "display_name": "Python 3"
    },
    "language_info": {
      "name": "python"
    }
  },
  "cells": [
    {
      "cell_type": "code",
      "execution_count": 28,
      "metadata": {
        "colab": {
          "base_uri": "https://localhost:8080/"
        },
        "id": "ucxztnhuHVrC",
        "outputId": "1f84ef13-e1f1-4b9d-e2af-61b80c7b2d93"
      },
      "outputs": [
        {
          "output_type": "stream",
          "name": "stdout",
          "text": [
            "isi Teman indek-3 adalah: Indira\n",
            "Semua teman: ada 5 orang\n",
            "Andi\n",
            "Bagas\n",
            "Jono\n",
            "Indira\n",
            "Freya\n"
          ]
        }
      ],
      "source": [
        "Teman = [\"Andi\", \"Bagas\", \"Jono\", \"Indira\", \"Freya\"]\n",
        "\n",
        "print(f\"isi Teman indek-3 adalah: {Teman[3]}\")\n",
        "\n",
        "print(\"Semua teman: ada\", len(Teman),\"orang\")\n",
        "for friend in Teman :\n",
        "    print(friend)"
      ]
    },
    {
      "cell_type": "code",
      "source": [
        "#Deklarasi List\n",
        "list_nilai = [1,2,3,4,5,6,7,8,9,10]\n",
        "\n",
        "#tampilkan list\n",
        "print(\"List Nilai : \\n\",list_nilai)\n",
        "\n",
        "#menggunakan len\n",
        "print(\"\\nJumlah Index list nilai (len) : \\n\", len(list_nilai))\n",
        "\n",
        "#menggunakan count\n",
        "print(\"\\nJumlah Nilai 5 Dalam List (count) : \\n\", list_nilai.count(5))\n",
        "\n",
        "#Menggunakan append\n",
        "print(\"\\nMenambah element dalam list (append) : \")\n",
        "list_nilai.append(12)\n",
        "list_nilai.append(10)\n",
        "print(\"List Nilai : \",list_nilai)\n",
        "\n",
        "#Menggunakan index\n",
        "print(\"\\nIndex ke 8 (index) : \\n\", list_nilai.index(8))\n",
        "\n",
        "#Menggunakan insert\n",
        "list_nilai.insert(1,12)\n",
        "print(\"\\nTambah Nilai List (Insert) : \\n\", list_nilai)\n",
        "\n",
        "#Menggunakan pop\n",
        "list_nilai.pop()\n",
        "list_nilai.pop()\n",
        "print(\"\\nList Nilai (pop) : \\n\",list_nilai)\n",
        "\n",
        "#Menggunakan remove\n",
        "list_nilai.remove(2)\n",
        "list_nilai.remove(1)\n",
        "print(\"\\nList Nilai (remove) : \\n\", list_nilai)"
      ],
      "metadata": {
        "colab": {
          "base_uri": "https://localhost:8080/"
        },
        "id": "USFYXn6gQcNt",
        "outputId": "0e5206ea-862f-4afe-a167-d33b9a056124"
      },
      "execution_count": 29,
      "outputs": [
        {
          "output_type": "stream",
          "name": "stdout",
          "text": [
            "List Nilai : \n",
            " [1, 2, 3, 4, 5, 6, 7, 8, 9, 10]\n",
            "\n",
            "Jumlah Index list nilai (len) : \n",
            " 10\n",
            "\n",
            "Jumlah Nilai 5 Dalam List (count) : \n",
            " 1\n",
            "\n",
            "Menambah element dalam list (append) : \n",
            "List Nilai :  [1, 2, 3, 4, 5, 6, 7, 8, 9, 10, 12, 10]\n",
            "\n",
            "Index ke 8 (index) : \n",
            " 7\n",
            "\n",
            "Tambah Nilai List (Insert) : \n",
            " [1, 12, 2, 3, 4, 5, 6, 7, 8, 9, 10, 12, 10]\n",
            "\n",
            "List Nilai (pop) : \n",
            " [1, 12, 2, 3, 4, 5, 6, 7, 8, 9, 10]\n",
            "\n",
            "List Nilai (remove) : \n",
            " [12, 3, 4, 5, 6, 7, 8, 9, 10]\n"
          ]
        }
      ]
    },
    {
      "cell_type": "code",
      "source": [
        "#Menggunakan extend\n",
        "list_nilai2 = [4,3,8,7]\n",
        "list_nilai.extend(list_nilai2)\n",
        "print(\"\\nList Nilai (extend : \\n\", list_nilai)\n",
        "\n",
        "#Menggunakan reverse\n",
        "list_nilai.reverse()\n",
        "print(\"\\nList Nilai (reverse) : \\n\", list_nilai)\n",
        "\n",
        "#Menggunakan sort\n",
        "list_nilai.sort()\n",
        "print(\"\\nList Nilai (sort) : \\n\", list_nilai)\n",
        "\n",
        "#Menggunakan Max\n",
        "print(\"\\nNilai Terbanyak (max) : \\n\", max(list_nilai))\n",
        "\n",
        "#Mengguankan min\n",
        "print(\"\\nNilai terendah (min) : \\n\", min(list_nilai))\n",
        "\n",
        "#Menggunakan Sum\n",
        "print(\"\\nTotal penjumlahan nilai dari list_nilai (sum) : \\n\",\n",
        "sum(list_nilai))"
      ],
      "metadata": {
        "colab": {
          "base_uri": "https://localhost:8080/"
        },
        "id": "LKE3F4AXRM6r",
        "outputId": "114b44a5-9b90-49e4-a234-f0fd573a28b6"
      },
      "execution_count": 30,
      "outputs": [
        {
          "output_type": "stream",
          "name": "stdout",
          "text": [
            "\n",
            "List Nilai (extend : \n",
            " [12, 3, 4, 5, 6, 7, 8, 9, 10, 4, 3, 8, 7]\n",
            "\n",
            "List Nilai (reverse) : \n",
            " [7, 8, 3, 4, 10, 9, 8, 7, 6, 5, 4, 3, 12]\n",
            "\n",
            "List Nilai (sort) : \n",
            " [3, 3, 4, 4, 5, 6, 7, 7, 8, 8, 9, 10, 12]\n",
            "\n",
            "Nilai Terbanyak (max) : \n",
            " 12\n",
            "\n",
            "Nilai terendah (min) : \n",
            " 3\n",
            "\n",
            "Total penjumlahan nilai dari list_nilai (sum) : \n",
            " 86\n"
          ]
        }
      ]
    }
  ]
}